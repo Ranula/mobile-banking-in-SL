{
 "cells": [
  {
   "cell_type": "code",
   "execution_count": 23,
   "metadata": {},
   "outputs": [],
   "source": [
    "import pandas as pd\n",
    "df = pd.read_csv(\"responses.csv\")"
   ]
  },
  {
   "cell_type": "code",
   "execution_count": 17,
   "metadata": {
    "scrolled": true
   },
   "outputs": [
    {
     "data": {
      "text/html": [
       "<div>\n",
       "<style scoped>\n",
       "    .dataframe tbody tr th:only-of-type {\n",
       "        vertical-align: middle;\n",
       "    }\n",
       "\n",
       "    .dataframe tbody tr th {\n",
       "        vertical-align: top;\n",
       "    }\n",
       "\n",
       "    .dataframe thead th {\n",
       "        text-align: right;\n",
       "    }\n",
       "</style>\n",
       "<table border=\"1\" class=\"dataframe\">\n",
       "  <thead>\n",
       "    <tr style=\"text-align: right;\">\n",
       "      <th></th>\n",
       "      <th>Timestamp</th>\n",
       "      <th>How do you identify yourself?</th>\n",
       "      <th>How old are you</th>\n",
       "      <th>Where do you live?</th>\n",
       "      <th>Pick your highest education level</th>\n",
       "      <th>Are you currently employed?</th>\n",
       "      <th>How long have you been using a smartphone?</th>\n",
       "      <th>Select your monthly income range</th>\n",
       "      <th>How many bank account do you have?</th>\n",
       "      <th>How many bank apps do you use?</th>\n",
       "      <th>How often do you visit a bank?</th>\n",
       "      <th>How long have you been using this mobile banking app?</th>\n",
       "      <th>Select all the services that you utilize</th>\n",
       "      <th>What is the highest transfer you have conducted through the mobile app (in LKR)?</th>\n",
       "      <th>Do you feel a sense of security when you operate the application?</th>\n",
       "      <th>What is your satisfaction with the additional charges related to the application?</th>\n",
       "      <th>What is your overall rating of the mobile app? (1 - worst and 5 - best)</th>\n",
       "      <th>Do you see yourself continue using the app in the future?</th>\n",
       "      <th>Which bank does the app belong to?</th>\n",
       "    </tr>\n",
       "  </thead>\n",
       "  <tbody>\n",
       "    <tr>\n",
       "      <th>0</th>\n",
       "      <td>2020/11/02 7:38:56 pm GMT+5:30</td>\n",
       "      <td>Female</td>\n",
       "      <td>20 - 30</td>\n",
       "      <td>Western</td>\n",
       "      <td>Degree / Diploma</td>\n",
       "      <td>Yes</td>\n",
       "      <td>More than 5 years</td>\n",
       "      <td>100000 - 150000</td>\n",
       "      <td>2</td>\n",
       "      <td>2</td>\n",
       "      <td>Every few months</td>\n",
       "      <td>6 months to 1 year</td>\n",
       "      <td>Check balance;Pay utility bills;Transfer money...</td>\n",
       "      <td>100000 to 500000</td>\n",
       "      <td>Yes</td>\n",
       "      <td>Fair</td>\n",
       "      <td>4</td>\n",
       "      <td>Yes</td>\n",
       "      <td>Commercial and People's</td>\n",
       "    </tr>\n",
       "    <tr>\n",
       "      <th>1</th>\n",
       "      <td>2020/11/02 7:39:00 pm GMT+5:30</td>\n",
       "      <td>Male</td>\n",
       "      <td>20 - 30</td>\n",
       "      <td>Central</td>\n",
       "      <td>Degree / Diploma</td>\n",
       "      <td>No</td>\n",
       "      <td>2-5 years</td>\n",
       "      <td>0 - 50000</td>\n",
       "      <td>4</td>\n",
       "      <td>2</td>\n",
       "      <td>Never</td>\n",
       "      <td>1-2 years</td>\n",
       "      <td>Check balance;Transfer money;As a mode to rech...</td>\n",
       "      <td>Below 50000</td>\n",
       "      <td>Maybe</td>\n",
       "      <td>Unfair</td>\n",
       "      <td>2</td>\n",
       "      <td>Maybe</td>\n",
       "      <td>Seylan and BOC</td>\n",
       "    </tr>\n",
       "    <tr>\n",
       "      <th>2</th>\n",
       "      <td>2020/11/02 7:42:24 pm GMT+5:30</td>\n",
       "      <td>Female</td>\n",
       "      <td>20 - 30</td>\n",
       "      <td>Western</td>\n",
       "      <td>Degree / Diploma</td>\n",
       "      <td>Yes</td>\n",
       "      <td>More than 5 years</td>\n",
       "      <td>0 - 50000</td>\n",
       "      <td>1</td>\n",
       "      <td>1</td>\n",
       "      <td>Never</td>\n",
       "      <td>6 months to 1 year</td>\n",
       "      <td>Check balance;Transfer money;As a mode to rech...</td>\n",
       "      <td>Below 50000</td>\n",
       "      <td>Yes</td>\n",
       "      <td>Unfair</td>\n",
       "      <td>2</td>\n",
       "      <td>Yes</td>\n",
       "      <td>Sampath</td>\n",
       "    </tr>\n",
       "    <tr>\n",
       "      <th>3</th>\n",
       "      <td>2020/11/02 7:42:41 pm GMT+5:30</td>\n",
       "      <td>Male</td>\n",
       "      <td>20 - 30</td>\n",
       "      <td>Western</td>\n",
       "      <td>Degree / Diploma</td>\n",
       "      <td>Yes</td>\n",
       "      <td>More than 5 years</td>\n",
       "      <td>100000 - 150000</td>\n",
       "      <td>5 +</td>\n",
       "      <td>1</td>\n",
       "      <td>Monthly</td>\n",
       "      <td>1-2 years</td>\n",
       "      <td>Check balance;Pay utility bills;Transfer money...</td>\n",
       "      <td>100000 to 500000</td>\n",
       "      <td>Yes</td>\n",
       "      <td>Fair</td>\n",
       "      <td>5</td>\n",
       "      <td>Yes</td>\n",
       "      <td>HNB</td>\n",
       "    </tr>\n",
       "    <tr>\n",
       "      <th>4</th>\n",
       "      <td>2020/11/02 7:44:19 pm GMT+5:30</td>\n",
       "      <td>Male</td>\n",
       "      <td>20 - 30</td>\n",
       "      <td>Western</td>\n",
       "      <td>Degree / Diploma</td>\n",
       "      <td>Yes</td>\n",
       "      <td>More than 5 years</td>\n",
       "      <td>50000 - 100000</td>\n",
       "      <td>3</td>\n",
       "      <td>3</td>\n",
       "      <td>Weekly</td>\n",
       "      <td>1-2 years</td>\n",
       "      <td>Check balance;Pay utility bills;Transfer money...</td>\n",
       "      <td>Below 50000</td>\n",
       "      <td>Maybe</td>\n",
       "      <td>Fair</td>\n",
       "      <td>4</td>\n",
       "      <td>Yes</td>\n",
       "      <td>NaN</td>\n",
       "    </tr>\n",
       "  </tbody>\n",
       "</table>\n",
       "</div>"
      ],
      "text/plain": [
       "                        Timestamp How do you identify yourself?  \\\n",
       "0  2020/11/02 7:38:56 pm GMT+5:30                        Female   \n",
       "1  2020/11/02 7:39:00 pm GMT+5:30                          Male   \n",
       "2  2020/11/02 7:42:24 pm GMT+5:30                        Female   \n",
       "3  2020/11/02 7:42:41 pm GMT+5:30                          Male   \n",
       "4  2020/11/02 7:44:19 pm GMT+5:30                          Male   \n",
       "\n",
       "  How old are you Where do you live? Pick your highest education level  \\\n",
       "0         20 - 30            Western                  Degree / Diploma   \n",
       "1         20 - 30            Central                  Degree / Diploma   \n",
       "2         20 - 30            Western                  Degree / Diploma   \n",
       "3         20 - 30            Western                  Degree / Diploma   \n",
       "4         20 - 30            Western                  Degree / Diploma   \n",
       "\n",
       "  Are you currently employed? How long have you been using a smartphone?  \\\n",
       "0                         Yes                          More than 5 years   \n",
       "1                          No                                  2-5 years   \n",
       "2                         Yes                          More than 5 years   \n",
       "3                         Yes                          More than 5 years   \n",
       "4                         Yes                          More than 5 years   \n",
       "\n",
       "  Select your monthly income range How many bank account do you have?  \\\n",
       "0                  100000 - 150000                                  2   \n",
       "1                        0 - 50000                                  4   \n",
       "2                        0 - 50000                                  1   \n",
       "3                  100000 - 150000                                5 +   \n",
       "4                   50000 - 100000                                  3   \n",
       "\n",
       "  How many bank apps do you use? How often do you visit a bank?  \\\n",
       "0                              2               Every few months   \n",
       "1                              2                          Never   \n",
       "2                              1                          Never   \n",
       "3                              1                        Monthly   \n",
       "4                              3                         Weekly   \n",
       "\n",
       "  How long have you been using this mobile banking app?  \\\n",
       "0                                 6 months to 1 year      \n",
       "1                                          1-2 years      \n",
       "2                                 6 months to 1 year      \n",
       "3                                          1-2 years      \n",
       "4                                          1-2 years      \n",
       "\n",
       "            Select all the services that you utilize  \\\n",
       "0  Check balance;Pay utility bills;Transfer money...   \n",
       "1  Check balance;Transfer money;As a mode to rech...   \n",
       "2  Check balance;Transfer money;As a mode to rech...   \n",
       "3  Check balance;Pay utility bills;Transfer money...   \n",
       "4  Check balance;Pay utility bills;Transfer money...   \n",
       "\n",
       "  What is the highest transfer you have conducted through the mobile app (in LKR)?  \\\n",
       "0                                   100000 to 500000                                 \n",
       "1                                        Below 50000                                 \n",
       "2                                        Below 50000                                 \n",
       "3                                   100000 to 500000                                 \n",
       "4                                        Below 50000                                 \n",
       "\n",
       "  Do you feel a sense of security when you operate the application?  \\\n",
       "0                                                Yes                  \n",
       "1                                              Maybe                  \n",
       "2                                                Yes                  \n",
       "3                                                Yes                  \n",
       "4                                              Maybe                  \n",
       "\n",
       "  What is your satisfaction with the additional charges related to the application?  \\\n",
       "0                                               Fair                                  \n",
       "1                                             Unfair                                  \n",
       "2                                             Unfair                                  \n",
       "3                                               Fair                                  \n",
       "4                                               Fair                                  \n",
       "\n",
       "   What is your overall rating of the mobile app? (1 - worst and 5 - best)  \\\n",
       "0                                                  4                         \n",
       "1                                                  2                         \n",
       "2                                                  2                         \n",
       "3                                                  5                         \n",
       "4                                                  4                         \n",
       "\n",
       "  Do you see yourself continue using the app in the future?  \\\n",
       "0                                                Yes          \n",
       "1                                              Maybe          \n",
       "2                                                Yes          \n",
       "3                                                Yes          \n",
       "4                                                Yes          \n",
       "\n",
       "  Which bank does the app belong to?  \n",
       "0            Commercial and People's  \n",
       "1                     Seylan and BOC  \n",
       "2                            Sampath  \n",
       "3                                HNB  \n",
       "4                                NaN  "
      ]
     },
     "execution_count": 17,
     "metadata": {},
     "output_type": "execute_result"
    }
   ],
   "source": [
    "df.head()"
   ]
  },
  {
   "cell_type": "code",
   "execution_count": null,
   "metadata": {},
   "outputs": [],
   "source": []
  },
  {
   "cell_type": "code",
   "execution_count": 18,
   "metadata": {},
   "outputs": [
    {
     "data": {
      "text/plain": [
       "How many bank apps do you use?  How do you identify yourself?\n",
       "1                               Female                           16\n",
       "                                Male                             11\n",
       "2                               Female                            7\n",
       "                                Male                             13\n",
       "3                               Female                            6\n",
       "                                Male                              8\n",
       "4                               Male                              1\n",
       "5 +                             Male                              2\n",
       "dtype: int64"
      ]
     },
     "execution_count": 18,
     "metadata": {},
     "output_type": "execute_result"
    }
   ],
   "source": [
    "df.groupby(['How many bank apps do you use?','How do you identify yourself?']).size()"
   ]
  },
  {
   "cell_type": "code",
   "execution_count": 19,
   "metadata": {},
   "outputs": [
    {
     "data": {
      "text/plain": [
       "Where do you live?  What is your satisfaction with the additional charges related to the application?\n",
       "Central             Fair                                                                                  1\n",
       "                    Unfair                                                                                2\n",
       "North Western       Unfair                                                                                2\n",
       "Nothern             Fair                                                                                  1\n",
       "Southern            Fair                                                                                  3\n",
       "                    Unfair                                                                                2\n",
       "Uva                 Fair                                                                                  9\n",
       "                    Unfair                                                                                6\n",
       "Western             Fair                                                                                 21\n",
       "                    Unfair                                                                               17\n",
       "dtype: int64"
      ]
     },
     "execution_count": 19,
     "metadata": {},
     "output_type": "execute_result"
    }
   ],
   "source": [
    "df.groupby(['Where do you live?','What is your satisfaction with the additional charges related to the application?']).size()"
   ]
  },
  {
   "cell_type": "code",
   "execution_count": 20,
   "metadata": {},
   "outputs": [
    {
     "data": {
      "text/plain": [
       "Do you feel a sense of security when you operate the application?  How do you identify yourself?\n",
       "Maybe                                                              Female                            7\n",
       "                                                                   Male                             13\n",
       "No                                                                 Female                            1\n",
       "                                                                   Male                              3\n",
       "Yes                                                                Female                           21\n",
       "                                                                   Male                             19\n",
       "dtype: int64"
      ]
     },
     "execution_count": 20,
     "metadata": {},
     "output_type": "execute_result"
    }
   ],
   "source": [
    "df.groupby(['Do you feel a sense of security when you operate the application?','How do you identify yourself?']).size()"
   ]
  },
  {
   "cell_type": "code",
   "execution_count": 21,
   "metadata": {},
   "outputs": [
    {
     "data": {
      "text/plain": [
       "Are you currently employed?\n",
       "No     14\n",
       "Yes    50\n",
       "dtype: int64"
      ]
     },
     "execution_count": 21,
     "metadata": {},
     "output_type": "execute_result"
    }
   ],
   "source": [
    "df.groupby(['Are you currently employed?']).size()"
   ]
  },
  {
   "cell_type": "code",
   "execution_count": 24,
   "metadata": {
    "scrolled": true
   },
   "outputs": [
    {
     "data": {
      "text/plain": [
       "Where do you live?  How many bank apps do you use?\n",
       "Central             1                                  1\n",
       "                    2                                  2\n",
       "North Western       1                                  1\n",
       "                    2                                  1\n",
       "Nothern             1                                  1\n",
       "Southern            1                                  2\n",
       "                    2                                  2\n",
       "                    3                                  1\n",
       "Uva                 1                                  8\n",
       "                    2                                  7\n",
       "                    3                                  4\n",
       "Western             1                                 14\n",
       "                    2                                  8\n",
       "                    3                                  9\n",
       "                    4                                  1\n",
       "                    5 +                                2\n",
       "dtype: int64"
      ]
     },
     "execution_count": 24,
     "metadata": {},
     "output_type": "execute_result"
    }
   ],
   "source": [
    "df.groupby(['Where do you live?','How many bank apps do you use?']).size()"
   ]
  },
  {
   "cell_type": "code",
   "execution_count": null,
   "metadata": {},
   "outputs": [],
   "source": []
  }
 ],
 "metadata": {
  "kernelspec": {
   "display_name": "Python 3",
   "language": "python",
   "name": "python3"
  },
  "language_info": {
   "codemirror_mode": {
    "name": "ipython",
    "version": 3
   },
   "file_extension": ".py",
   "mimetype": "text/x-python",
   "name": "python",
   "nbconvert_exporter": "python",
   "pygments_lexer": "ipython3",
   "version": "3.6.9"
  }
 },
 "nbformat": 4,
 "nbformat_minor": 2
}
